{
 "cells": [
  {
   "cell_type": "markdown",
   "metadata": {},
   "source": [
    "# Modeling my Electricity usage\n",
    "\n",
    "This is data from before and after fitting some home automation around the hot water based on meter readings.  Turns out my usage is actually pretty linear and it's not hard to beat the model that my electricity company uses to predict my bills (they are way out).  Also, TL;DR, putting a timer on the hot water (immersion heater) saved £54/month!"
   ]
  },
  {
   "cell_type": "code",
   "execution_count": 1,
   "metadata": {},
   "outputs": [],
   "source": [
    "import pandas as pd\n",
    "import numpy as np\n",
    "from scipy import optimize\n",
    "from datetime import datetime, timedelta\n",
    "from sklearn.metrics import mean_squared_error\n",
    "%matplotlib inline\n",
    "import matplotlib.pyplot as plt"
   ]
  },
  {
   "cell_type": "markdown",
   "metadata": {},
   "source": [
    "Read meter readings from CSV, convert date to DateTimeIndex and calculate day of year for each entry"
   ]
  },
  {
   "cell_type": "code",
   "execution_count": 2,
   "metadata": {},
   "outputs": [
    {
     "data": {
      "text/html": [
       "<div>\n",
       "<style scoped>\n",
       "    .dataframe tbody tr th:only-of-type {\n",
       "        vertical-align: middle;\n",
       "    }\n",
       "\n",
       "    .dataframe tbody tr th {\n",
       "        vertical-align: top;\n",
       "    }\n",
       "\n",
       "    .dataframe thead th {\n",
       "        text-align: right;\n",
       "    }\n",
       "</style>\n",
       "<table border=\"1\" class=\"dataframe\">\n",
       "  <thead>\n",
       "    <tr style=\"text-align: right;\">\n",
       "      <th></th>\n",
       "      <th>Outside Meter</th>\n",
       "      <th>Inside Meter</th>\n",
       "      <th>doy</th>\n",
       "    </tr>\n",
       "    <tr>\n",
       "      <th>date</th>\n",
       "      <th></th>\n",
       "      <th></th>\n",
       "      <th></th>\n",
       "    </tr>\n",
       "  </thead>\n",
       "  <tbody>\n",
       "    <tr>\n",
       "      <th>2019-02-07 00:00:00+00:00</th>\n",
       "      <td>2207</td>\n",
       "      <td>NaN</td>\n",
       "      <td>38</td>\n",
       "    </tr>\n",
       "    <tr>\n",
       "      <th>2019-02-20 00:00:00+00:00</th>\n",
       "      <td>2527</td>\n",
       "      <td>NaN</td>\n",
       "      <td>51</td>\n",
       "    </tr>\n",
       "    <tr>\n",
       "      <th>2019-03-06 00:00:00+00:00</th>\n",
       "      <td>2809</td>\n",
       "      <td>NaN</td>\n",
       "      <td>65</td>\n",
       "    </tr>\n",
       "    <tr>\n",
       "      <th>2019-03-24 00:00:00+00:00</th>\n",
       "      <td>3193</td>\n",
       "      <td>NaN</td>\n",
       "      <td>83</td>\n",
       "    </tr>\n",
       "    <tr>\n",
       "      <th>2019-04-08 00:00:00+00:00</th>\n",
       "      <td>3466</td>\n",
       "      <td>NaN</td>\n",
       "      <td>98</td>\n",
       "    </tr>\n",
       "    <tr>\n",
       "      <th>2019-04-10 00:00:00+00:00</th>\n",
       "      <td>3511</td>\n",
       "      <td>NaN</td>\n",
       "      <td>100</td>\n",
       "    </tr>\n",
       "    <tr>\n",
       "      <th>2019-04-15 00:00:00+00:00</th>\n",
       "      <td>3629</td>\n",
       "      <td>NaN</td>\n",
       "      <td>105</td>\n",
       "    </tr>\n",
       "    <tr>\n",
       "      <th>2019-04-18 00:00:00+00:00</th>\n",
       "      <td>3672</td>\n",
       "      <td>NaN</td>\n",
       "      <td>108</td>\n",
       "    </tr>\n",
       "    <tr>\n",
       "      <th>2019-04-23 00:00:00+00:00</th>\n",
       "      <td>3710</td>\n",
       "      <td>10.5</td>\n",
       "      <td>113</td>\n",
       "    </tr>\n",
       "    <tr>\n",
       "      <th>2019-04-29 00:00:00+00:00</th>\n",
       "      <td>3769</td>\n",
       "      <td>79.5</td>\n",
       "      <td>119</td>\n",
       "    </tr>\n",
       "    <tr>\n",
       "      <th>2019-05-03 00:00:00+00:00</th>\n",
       "      <td>3799</td>\n",
       "      <td>123.0</td>\n",
       "      <td>123</td>\n",
       "    </tr>\n",
       "    <tr>\n",
       "      <th>2019-05-09 00:00:00+00:00</th>\n",
       "      <td>3829</td>\n",
       "      <td>186.8</td>\n",
       "      <td>129</td>\n",
       "    </tr>\n",
       "    <tr>\n",
       "      <th>2019-05-28 00:00:00+00:00</th>\n",
       "      <td>3957</td>\n",
       "      <td>389.6</td>\n",
       "      <td>148</td>\n",
       "    </tr>\n",
       "  </tbody>\n",
       "</table>\n",
       "</div>"
      ],
      "text/plain": [
       "                           Outside Meter  Inside Meter  doy\n",
       "date                                                       \n",
       "2019-02-07 00:00:00+00:00           2207           NaN   38\n",
       "2019-02-20 00:00:00+00:00           2527           NaN   51\n",
       "2019-03-06 00:00:00+00:00           2809           NaN   65\n",
       "2019-03-24 00:00:00+00:00           3193           NaN   83\n",
       "2019-04-08 00:00:00+00:00           3466           NaN   98\n",
       "2019-04-10 00:00:00+00:00           3511           NaN  100\n",
       "2019-04-15 00:00:00+00:00           3629           NaN  105\n",
       "2019-04-18 00:00:00+00:00           3672           NaN  108\n",
       "2019-04-23 00:00:00+00:00           3710          10.5  113\n",
       "2019-04-29 00:00:00+00:00           3769          79.5  119\n",
       "2019-05-03 00:00:00+00:00           3799         123.0  123\n",
       "2019-05-09 00:00:00+00:00           3829         186.8  129\n",
       "2019-05-28 00:00:00+00:00           3957         389.6  148"
      ]
     },
     "execution_count": 2,
     "metadata": {},
     "output_type": "execute_result"
    }
   ],
   "source": [
    "df = pd.read_csv('meter_readings.csv', delimiter=',')\n",
    "df['date'] = pd.to_datetime(df['Date'], format='%d/%m/%y', utc=True)\n",
    "df.set_index('date', inplace=True)\n",
    "df.drop(['Date'], axis=1, inplace=True)\n",
    "df['doy'] = df.index.dayofyear\n",
    "df"
   ]
  },
  {
   "cell_type": "markdown",
   "metadata": {},
   "source": [
    "By plotting, it can be seen that there are two distinct piecewise linear relations (or a step change in gradient)."
   ]
  },
  {
   "cell_type": "code",
   "execution_count": 3,
   "metadata": {
    "scrolled": true
   },
   "outputs": [
    {
     "data": {
      "text/plain": [
       "<matplotlib.axes._subplots.AxesSubplot at 0x7f5bd8391e48>"
      ]
     },
     "execution_count": 3,
     "metadata": {},
     "output_type": "execute_result"
    },
    {
     "data": {
      "image/png": "[encoded data removed]",
      "text/plain": [
       "<Figure size 432x288 with 1 Axes>"
      ]
     },
     "metadata": {
      "needs_background": "light"
     },
     "output_type": "display_data"
    }
   ],
   "source": [
    "df.plot(y='Outside Meter')"
   ]
  },
  {
   "cell_type": "markdown",
   "metadata": {},
   "source": [
    "The step change appears to be around 2019-04-15 so we will start with that as a guess and split the data in to two sets.  We will then perform a linear regression on both to get the gradients (m) and the intercepts (c) for each.  We will then solve the two linear equations to find the intersection (in days)."
   ]
  },
  {
   "cell_type": "code",
   "execution_count": 4,
   "metadata": {},
   "outputs": [
    {
     "name": "stdout",
     "output_type": "stream",
     "text": [
      "Step 1 [  20.76497441 1446.98768848]\n",
      "Step 2 [   7.43263904 2869.20285841]\n",
      "Intersection: day 106.67 (2019-04-17T16:10:44.144485)\n"
     ]
    }
   ],
   "source": [
    "guess = '2019-04-15'\n",
    "guess_dt = datetime.strptime(guess, '%Y-%m-%d')\n",
    "step1 = df.loc[:guess]\n",
    "step2 = df.loc[guess:]\n",
    "step1_lin = np.polyfit(step1['doy'], step1['Outside Meter'], 1)\n",
    "step2_lin = np.polyfit(step2['doy'], step2['Outside Meter'], 1)\n",
    "print(\"Step 1\", step1_lin)\n",
    "print(\"Step 2\", step2_lin)\n",
    "# Solve functions of each step to find date of change\n",
    "change = optimize.fsolve(lambda x: (step1_lin[0] * x + step1_lin[1]) - (step2_lin[0] * x + step2_lin[1]), 0.0)[0]\n",
    "change_dt = datetime(2019, 1, 1, 0, 0) + timedelta(days=change)\n",
    "print(\"Intersection: day {0:.2f} ({1})\".format(change, change_dt.isoformat()))"
   ]
  },
  {
   "cell_type": "markdown",
   "metadata": {},
   "source": [
    "Now that we have the two sets of gradient and intercept and the step change, we can write a function (named f to be original) that should be able to predict a meter reading for a given day and add this to the data frame.  Plotting this shows that f() is reasonably accurate."
   ]
  },
  {
   "cell_type": "code",
   "execution_count": 5,
   "metadata": {},
   "outputs": [
    {
     "name": "stdout",
     "output_type": "stream",
     "text": [
      "MSE1: 229.65\n"
     ]
    },
    {
     "data": {
      "image/png": "[encoded data removed]",
      "text/plain": [
       "<Figure size 432x288 with 1 Axes>"
      ]
     },
     "metadata": {
      "needs_background": "light"
     },
     "output_type": "display_data"
    }
   ],
   "source": [
    "def f(x, m1, c1, m2, c2, change):\n",
    "    return (x.doy * m1 + c1) if x.doy < change else (x.doy * m2 + c2)\n",
    "    \n",
    "df['model1'] = df.apply(lambda x: f(x, *step1_lin, *step2_lin, change), axis=1)\n",
    "df.plot(y=['Outside Meter', 'model1'])\n",
    "mse1 = mean_squared_error(y_true=df['Outside Meter'], y_pred=df['model1'])\n",
    "print(\"MSE1: {0:.2f}\".format(mse1))"
   ]
  },
  {
   "cell_type": "markdown",
   "metadata": {},
   "source": [
    "Now that we have a better guess of the step change, re-run the regression and see if the model improves (lower MSE)."
   ]
  },
  {
   "cell_type": "code",
   "execution_count": 6,
   "metadata": {},
   "outputs": [
    {
     "name": "stdout",
     "output_type": "stream",
     "text": [
      "Step 1 [  20.76497441 1446.98768848]\n",
      "Step 2 [   7.05492676 2919.22569907]\n",
      "MSE2: 213.20\n"
     ]
    },
    {
     "data": {
      "text/plain": [
       "<matplotlib.axes._subplots.AxesSubplot at 0x7f5bd7b81be0>"
      ]
     },
     "execution_count": 6,
     "metadata": {},
     "output_type": "execute_result"
    },
    {
     "data": {
      "image/png": "[encoded data removed]",
      "text/plain": [
       "<Figure size 432x288 with 1 Axes>"
      ]
     },
     "metadata": {
      "needs_background": "light"
     },
     "output_type": "display_data"
    }
   ],
   "source": [
    "step1 = df.loc[:change_dt]\n",
    "step2 = df.loc[change_dt:]\n",
    "step1_lin = np.polyfit(step1['doy'], step1['Outside Meter'], 1)\n",
    "step2_lin = np.polyfit(step2['doy'], step2['Outside Meter'], 1)\n",
    "print(\"Step 1\", step1_lin)\n",
    "print(\"Step 2\", step2_lin)\n",
    "df['model2'] = df.apply(lambda x: f(x, *step1_lin, *step2_lin, change), axis=1)\n",
    "mse2 = mean_squared_error(y_true=df['Outside Meter'], y_pred=df['model2'])\n",
    "print(\"MSE2: {0:.2f}\".format(mse2))\n",
    "df.plot(y=['Outside Meter', 'model2'])"
   ]
  },
  {
   "cell_type": "markdown",
   "metadata": {},
   "source": [
    "This has reduced the MSE (and the second step appears a better fit), so we'll go with the updated model.\n",
    "\n",
    "By plugging in the daily standing charge and kWh unit cost, we can calculate the before and after daily and montly costs:"
   ]
  },
  {
   "cell_type": "code",
   "execution_count": 7,
   "metadata": {},
   "outputs": [
    {
     "name": "stdout",
     "output_type": "stream",
     "text": [
      "Step 1: £2.91/day (£88.39/mon)\n",
      "Step 2: £1.12/day (£34.13/mon)\n"
     ]
    }
   ],
   "source": [
    "rate = 0.1301\n",
    "sc = 0.2044\n",
    "step1_cost_pd = rate * step1_lin[0] + sc\n",
    "step1_cost_pm = step1_cost_pd * (365 / 12)\n",
    "step2_cost_pd = rate * step2_lin[0] + sc\n",
    "step2_cost_pm = step2_cost_pd * (365 / 12)\n",
    "\n",
    "print(\"Step 1: £{0:.2f}/day (£{1:.2f}/mon)\".format(step1_cost_pd, step1_cost_pm))\n",
    "print(\"Step 2: £{0:.2f}/day (£{1:.2f}/mon)\".format(step2_cost_pd, step2_cost_pm))"
   ]
  },
  {
   "cell_type": "code",
   "execution_count": null,
   "metadata": {},
   "outputs": [],
   "source": []
  }
 ],
 "metadata": {
  "kernelspec": {
   "display_name": "Python 3",
   "language": "python",
   "name": "python3"
  },
  "language_info": {
   "codemirror_mode": {
    "name": "ipython",
    "version": 3
   },
   "file_extension": ".py",
   "mimetype": "text/x-python",
   "name": "python",
   "nbconvert_exporter": "python",
   "pygments_lexer": "ipython3",
   "version": "3.6.7"
  }
 },
 "nbformat": 4,
 "nbformat_minor": 2
}
